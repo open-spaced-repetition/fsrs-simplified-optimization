{
 "cells": [
  {
   "cell_type": "code",
   "execution_count": 1,
   "metadata": {},
   "outputs": [
    {
     "data": {
      "text/latex": [
       "$\\displaystyle \\frac{9 s \\left(1 - y\\right) - t y}{s \\left(9 s + t\\right)}$"
      ],
      "text/plain": [
       "(9*s*(1 - y) - t*y)/(s*(9*s + t))"
      ]
     },
     "execution_count": 1,
     "metadata": {},
     "output_type": "execute_result"
    }
   ],
   "source": [
    "from sympy import exp\n",
    "from sympy import symbols, log, diff\n",
    "\n",
    "y, s, t = symbols(\"y s t\")\n",
    "\n",
    "# define retrievability function R(t, s)\n",
    "R_s = (1 + t / (9 * s)) ** -1\n",
    "\n",
    "# define loss function L\n",
    "L_new = -(y * log(R_s) + (1 - y) * log(1 - R_s))\n",
    "\n",
    "# compute dL/ds\n",
    "dL_ds = diff(L_new, s).simplify()\n",
    "dL_ds"
   ]
  },
  {
   "cell_type": "code",
   "execution_count": 2,
   "metadata": {},
   "outputs": [
    {
     "data": {
      "text/plain": [
       "(last_s**(1 - w9)*w15*w16*(1 - exp(t*w10/(9*last_s + t)))*(last_d - 11)*exp(w8),\n",
       " last_s**(1 - w9)*w15*w16*(last_d - 11)*(exp(t*w10/(9*last_s + t)) - 1)*exp(w8)*log(last_s),\n",
       " last_s**(1 - w9)*t*w15*w16*(11 - last_d)*exp(t*w10/(9*last_s + t) + w8)/(9*last_s + t),\n",
       " last_s*w16*(11 - last_d)*(exp(w10*(1 - 1/(1 + t/(9*last_s)))) - 1)*exp(w8)/last_s**w9,\n",
       " last_s*w15*(11 - last_d)*(exp(w10*(1 - 1/(1 + t/(9*last_s)))) - 1)*exp(w8)/last_s**w9)"
      ]
     },
     "execution_count": 2,
     "metadata": {},
     "output_type": "execute_result"
    }
   ],
   "source": [
    "last_s, last_d = symbols(\"last_s last_d\")\n",
    "w8, w9, w10, w15, w16 = symbols(\"w8 w9 w10 w15 w16\")\n",
    "\n",
    "r = (1 + t / (9 * last_s)) ** -1\n",
    "\n",
    "# define new_s\n",
    "new_s = last_s * (\n",
    "    1\n",
    "    + exp(w8)\n",
    "    * (11 - last_d)\n",
    "    * last_s ** (-w9)\n",
    "    * (exp((1 - r) * w10) - 1)\n",
    "    * w15\n",
    "    * w16\n",
    ")\n",
    "\n",
    "# compute gradient\n",
    "gradient_w8 = diff(new_s, w8).simplify()\n",
    "gradient_w9 = diff(new_s, w9).simplify()\n",
    "gradient_w10 = diff(new_s, w10).simplify()\n",
    "gradient_w15 = diff(new_s, w15)\n",
    "gradient_w16 = diff(new_s, w16)\n",
    "\n",
    "gradient_w8, gradient_w9, gradient_w10, gradient_w15, gradient_w16"
   ]
  },
  {
   "cell_type": "code",
   "execution_count": 3,
   "metadata": {},
   "outputs": [
    {
     "data": {
      "text/plain": [
       "(((last_s + 1)**w13 - 1)*exp(t*w14/(9*last_s + t))/last_d**w12,\n",
       " w11*(1 - (last_s + 1)**w13)*exp(t*w14/(9*last_s + t))*log(last_d)/last_d**w12,\n",
       " w11*(last_s + 1)**w13*exp(t*w14/(9*last_s + t))*log(last_s + 1)/last_d**w12,\n",
       " t*w11*((last_s + 1)**w13 - 1)*exp(t*w14/(9*last_s + t))/(last_d**w12*(9*last_s + t)))"
      ]
     },
     "execution_count": 3,
     "metadata": {},
     "output_type": "execute_result"
    }
   ],
   "source": [
    "w11, w12, w13, w14 = symbols(\"w11 w12 w13 w14\")\n",
    "\n",
    "new_s = w11 * last_d ** (-w12) * ((last_s + 1) ** w13 - 1) * exp((1 - r) * w14)\n",
    "\n",
    "# compute gradient\n",
    "gradient_w11 = diff(new_s, w11).simplify()\n",
    "gradient_w12 = diff(new_s, w12).simplify()\n",
    "gradient_w13 = diff(new_s, w13).simplify()\n",
    "gradient_w14 = diff(new_s, w14).simplify()\n",
    "\n",
    "gradient_w11, gradient_w12, gradient_w13, gradient_w14"
   ]
  },
  {
   "cell_type": "code",
   "execution_count": 4,
   "metadata": {},
   "outputs": [],
   "source": [
    "from typing import List\n",
    "import math\n",
    "\n",
    "\n",
    "def power_forgetting_curve(t, s):\n",
    "    return (1 + t / (9 * s)) ** -1\n",
    "\n",
    "\n",
    "class FSRS:\n",
    "    def __init__(self, w: List[float]):\n",
    "        self.w = w\n",
    "        self.lr = 1e-3\n",
    "\n",
    "    def init_stability(self, rating):\n",
    "        return self.w[rating - 1]\n",
    "\n",
    "    def init_difficulty(self, rating):\n",
    "        return self.w[4] - self.w[5] * (rating - 3)\n",
    "\n",
    "    def next_difficulty(self, last_d, rating):\n",
    "        return last_d - self.w[6] * (rating - 3)\n",
    "\n",
    "    def stability_after_success(self, last_s, last_d, r, rating):\n",
    "        hard_penalty = self.w[15] if rating == 2 else 1\n",
    "        easy_bonus = self.w[16] if rating == 4 else 1\n",
    "        new_s = last_s * (\n",
    "            1\n",
    "            + math.exp(self.w[8])\n",
    "            * (11 - last_d)\n",
    "            * math.pow(last_s, -self.w[9])\n",
    "            * (math.exp((1 - r) * self.w[10]) - 1)\n",
    "            * hard_penalty\n",
    "            * easy_bonus\n",
    "        )\n",
    "        return new_s\n",
    "\n",
    "    def stability_after_failure(self, last_s, last_d, r):\n",
    "        new_s = (\n",
    "            self.w[11]\n",
    "            * math.pow(last_d, -self.w[12])\n",
    "            * (math.pow(last_s + 1, self.w[13]) - 1)\n",
    "            * math.exp((1 - r) * self.w[14])\n",
    "        )\n",
    "        return new_s\n",
    "    \n",
    "    def clamp_weights(self):\n",
    "        self.w[0] = max(0, min(self.w[0], 365))\n",
    "        self.w[1] = max(0, min(self.w[1], 365))\n",
    "        self.w[2] = max(0, min(self.w[2], 365))\n",
    "        self.w[3] = max(0, min(self.w[3], 365))\n",
    "        self.w[4] = max(1, min(self.w[4], 10))\n",
    "        self.w[5] = max(0.1, min(self.w[5], 5))\n",
    "        self.w[6] = max(0.1, min(self.w[6], 5))\n",
    "        self.w[7] = max(0, min(self.w[7], 0.5))\n",
    "        self.w[8] = max(0, min(self.w[8], 3))\n",
    "        self.w[9] = max(0.1, min(self.w[9], 0.8))\n",
    "        self.w[10] = max(0.01, min(self.w[10], 2.5))\n",
    "        self.w[11] = max(0.5, min(self.w[11], 5))\n",
    "        self.w[12] = max(0.01, min(self.w[12], 0.2))\n",
    "        self.w[13] = max(0.01, min(self.w[13], 0.9))\n",
    "        self.w[14] = max(0.01, min(self.w[14], 2))\n",
    "        self.w[15] = max(0, min(self.w[15], 1))\n",
    "        self.w[16] = max(1, min(self.w[16], 4))\n",
    "\n",
    "    def update_weights(self, last_s, last_d, cur_s, cur_d, last_rating, delta_t, y):\n",
    "        if last_s is None:\n",
    "            grad = (-delta_t * y + 9 * self.w[last_rating - 1] * (1 - y)) / (\n",
    "                self.w[last_rating - 1] * (delta_t + 9 * self.w[last_rating - 1])\n",
    "            )\n",
    "            self.w[last_rating - 1] -= grad * self.lr\n",
    "        elif last_rating > 1:\n",
    "            # (9*s*(1 - y) - t*y)/(s*(9*s + t)), (9*s*(1 - y) - t*y)/(s*(9*s + t))\n",
    "            grad_s = (9 * cur_s * (1 - y) - delta_t * y) / \\\n",
    "                (cur_s * (9 * cur_s + delta_t))\n",
    "            # last_s**(1 - w9)*w15*w16*(1 - exp(t*w10/(9*s + t)))*(last_d - 11)*exp(w8)\n",
    "            grad_8 = (\n",
    "                last_s ** (1 - self.w[9])\n",
    "                * (self.w[15] if last_rating == 2 else 1)\n",
    "                * (self.w[16] if last_rating == 4 else 1)\n",
    "                * (1 - math.exp(delta_t * self.w[10] / (9 * last_s + delta_t)))\n",
    "                * (last_d - 11)\n",
    "                * math.exp(self.w[8])\n",
    "            )\n",
    "            # last_s**(1 - w9)*w15*w16*(last_d - 11)*(exp(t*w10/(9*s + t)) - 1)*exp(w8)*log(last_s)\n",
    "            grad_9 = (\n",
    "                last_s ** (1 - self.w[9])\n",
    "                * (self.w[15] if last_rating == 2 else 1)\n",
    "                * (self.w[16] if last_rating == 4 else 1)\n",
    "                * (last_d - 11)\n",
    "                * (math.exp(delta_t * self.w[10] / (9 * last_s + delta_t)) - 1)\n",
    "                * math.exp(self.w[8])\n",
    "                * math.log(last_s)\n",
    "            )\n",
    "            # last_s**(1 - w9)*t*w15*w16*(11 - last_d)*exp(t*w10/(9*s + t) + w8)/(9*s + t)\n",
    "            grad_10 = (\n",
    "                last_s ** (1 - self.w[9])\n",
    "                * delta_t\n",
    "                * (self.w[15] if last_rating == 2 else 1)\n",
    "                * (self.w[16] if last_rating == 4 else 1)\n",
    "                * (11 - last_d)\n",
    "                * math.exp((delta_t * self.w[10] / (9 * last_s + delta_t)) + self.w[8])\n",
    "                / (9 * last_s + delta_t)\n",
    "            )\n",
    "            # last_s*w16*(11 - last_d)*(exp(w10*(1 - 1/(1 + t/(9*s)))) - 1)*exp(w8)/last_s**w9,\n",
    "            grad_15 = (\n",
    "                last_s\n",
    "                * self.w[16]\n",
    "                * (11 - last_d)\n",
    "                * (math.exp(self.w[10] * (1 - 1 / (1 + delta_t / (9 * last_s)))) - 1)\n",
    "                * math.exp(self.w[8])\n",
    "                / last_s ** self.w[9]\n",
    "            ) if last_rating == 2 else 0\n",
    "            # last_s*w15*(11 - last_d)*(exp(w10*(1 - 1/(1 + t/(9*s)))) - 1)*exp(w8)/last_s**w9\n",
    "            grad_16 = (\n",
    "                last_s\n",
    "                * self.w[15]\n",
    "                * (11 - last_d)\n",
    "                * (math.exp(self.w[10] * (1 - 1 / (1 + delta_t / (9 * last_s)))) - 1)\n",
    "                * math.exp(self.w[8])\n",
    "                / last_s ** self.w[9]\n",
    "            ) if last_rating == 4 else 0\n",
    "            self.w[8] -= grad_s * grad_8 * self.lr\n",
    "            self.w[9] -= grad_s * grad_9 * self.lr\n",
    "            self.w[10] -= grad_s * grad_10 * self.lr\n",
    "            self.w[15] -= grad_s * grad_15 * self.lr\n",
    "            self.w[16] -= grad_s * grad_16 * self.lr\n",
    "        else:\n",
    "            # (9*s*(1 - y) - t*y)/(s*(9*s + t)), (9*s*(1 - y) - t*y)/(s*(9*s + t))\n",
    "            grad_s = (9 * cur_s * (1 - y) - delta_t * y) / \\\n",
    "                (cur_s * (9 * cur_s + delta_t))\n",
    "            # ((s + 1)**w13 - 1)*exp(t*w14/(9*s + t))/d**w12\n",
    "            grad_11 = ((last_s + 1) ** self.w[13] - 1) * math.exp(\n",
    "                delta_t * self.w[14] / (9 * last_s + delta_t)\n",
    "            ) / last_d ** self.w[12]\n",
    "            #  w11*(1 - (s + 1)**w13)*exp(t*w14/(9*s + t))*log(d)/d**w12\n",
    "            grad_12 = (\n",
    "                self.w[11]\n",
    "                * (1 - (last_s + 1) ** self.w[13])\n",
    "                * math.exp(delta_t * self.w[14] / (9 * last_s + delta_t))\n",
    "                * math.log(last_d)\n",
    "                / last_d ** self.w[12]\n",
    "            )\n",
    "            # w11*(s + 1)**w13*exp(t*w14/(9*s + t))*log(s + 1)/d**w12\n",
    "            grad_13 = (\n",
    "                self.w[11]\n",
    "                * (last_s + 1) ** self.w[13]\n",
    "                * math.exp(delta_t * self.w[14] / (9 * last_s + delta_t))\n",
    "                * math.log(last_s + 1)\n",
    "                / last_d ** self.w[12]\n",
    "            )\n",
    "            # t*w11*((s + 1)**w13 - 1)*exp(t*w14/(9*s + t))/(d**w12*(9*s + t))\n",
    "            grad_14 = (\n",
    "                delta_t\n",
    "                * self.w[11]\n",
    "                * ((last_s + 1) ** self.w[13] - 1)\n",
    "                * math.exp(delta_t * self.w[14] / (9 * last_s + delta_t))\n",
    "                / (last_d ** self.w[12] * (9 * last_s + delta_t))\n",
    "            )\n",
    "            self.w[11] -= grad_s * grad_11 * self.lr\n",
    "            self.w[12] -= grad_s * grad_12 * self.lr\n",
    "            self.w[13] -= grad_s * grad_13 * self.lr\n",
    "            self.w[14] -= grad_s * grad_14 * self.lr\n",
    "        \n",
    "        self.clamp_weights()"
   ]
  },
  {
   "cell_type": "code",
   "execution_count": 5,
   "metadata": {},
   "outputs": [],
   "source": [
    "init_w = [\n",
    "    0.4,\n",
    "    0.9,\n",
    "    2.3,\n",
    "    10.9,\n",
    "    4.93,\n",
    "    0.94,\n",
    "    0.86,\n",
    "    0.01,\n",
    "    1.49,\n",
    "    0.14,\n",
    "    0.94,\n",
    "    2.18,\n",
    "    0.05,\n",
    "    0.34,\n",
    "    1.26,\n",
    "    0.29,\n",
    "    2.61]\n",
    "\n",
    "fsrs = FSRS(init_w)"
   ]
  },
  {
   "cell_type": "code",
   "execution_count": 6,
   "metadata": {},
   "outputs": [
    {
     "name": "stdout",
     "output_type": "stream",
     "text": [
      "2.3\n",
      "[0.4, 0.9, 2.300020036064917, 10.9, 4.93, 0.94, 0.86, 0.01, 1.49, 0.14, 0.94, 2.18, 0.05, 0.34, 1.26, 0.29, 2.61]\n"
     ]
    }
   ],
   "source": [
    "last_s = None\n",
    "last_d = None\n",
    "last_rating = 3\n",
    "\n",
    "new_s = fsrs.init_stability(last_rating)\n",
    "print(new_s)\n",
    "new_d = fsrs.init_difficulty(last_rating)\n",
    "\n",
    "delta_t = 1\n",
    "\n",
    "fsrs.update_weights(last_s, last_d, new_s, new_d, last_rating, delta_t, 1)\n",
    "print(fsrs.w)"
   ]
  },
  {
   "cell_type": "code",
   "execution_count": 7,
   "metadata": {},
   "outputs": [
    {
     "name": "stdout",
     "output_type": "stream",
     "text": [
      "6.762504509640942\n",
      "[0.4, 0.9, 2.300020036064917, 10.9, 4.93, 0.94, 0.86, 0.01, 1.490048241318444, 0.13996656166613405, 0.9400548434573033, 2.18, 0.05, 0.34, 1.26, 0.29, 2.61]\n"
     ]
    }
   ],
   "source": [
    "last_s = 2\n",
    "last_d = 5\n",
    "last_t = 2\n",
    "r = power_forgetting_curve(last_t, last_s)\n",
    "last_rating = 3\n",
    "\n",
    "new_s = fsrs.stability_after_success(last_s, last_d, r, last_rating)\n",
    "print(new_s)\n",
    "new_d = fsrs.next_difficulty(last_d, last_rating)\n",
    "\n",
    "delta_t = 3\n",
    "\n",
    "fsrs.update_weights(last_s, last_d, new_s, new_d, last_rating, delta_t, 1)\n",
    "print(fsrs.w)"
   ]
  },
  {
   "cell_type": "code",
   "execution_count": 8,
   "metadata": {},
   "outputs": [
    {
     "name": "stdout",
     "output_type": "stream",
     "text": [
      "1.033201219928722\n",
      "[0.4, 0.9, 2.300020036064917, 10.9, 4.93, 0.94, 0.86, 0.01, 1.490048241318444, 0.13996656166613405, 0.9400548434573033, 2.1801181009894797, 0.049585633862277455, 0.34090744413250423, 1.260036780022438, 0.29, 2.61]\n"
     ]
    }
   ],
   "source": [
    "last_s = 2\n",
    "last_d = 5\n",
    "last_t = 2\n",
    "r = power_forgetting_curve(last_t, last_s)\n",
    "last_rating = 1\n",
    "\n",
    "new_s = fsrs.stability_after_failure(last_s, last_d, r)\n",
    "print(new_s)\n",
    "new_d = fsrs.next_difficulty(last_d, last_rating)\n",
    "\n",
    "delta_t = 3\n",
    "\n",
    "fsrs.update_weights(last_s, last_d, new_s, new_d, last_rating, delta_t, 1)\n",
    "print(fsrs.w)"
   ]
  }
 ],
 "metadata": {
  "kernelspec": {
   "display_name": "fsrs4anki",
   "language": "python",
   "name": "python3"
  },
  "language_info": {
   "codemirror_mode": {
    "name": "ipython",
    "version": 3
   },
   "file_extension": ".py",
   "mimetype": "text/x-python",
   "name": "python",
   "nbconvert_exporter": "python",
   "pygments_lexer": "ipython3",
   "version": "3.9.16"
  }
 },
 "nbformat": 4,
 "nbformat_minor": 2
}
